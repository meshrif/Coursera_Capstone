{
 "cells": [
  {
   "cell_type": "markdown",
   "metadata": {},
   "source": [
    "# 1- Problem Description"
   ]
  },
  {
   "cell_type": "markdown",
   "metadata": {},
   "source": [
    "Almadinah city in Saudi Arabia has the second holey mosque for Muslims around the world. Because of that it is visited during a whole year.  Therefore, it is good for visitors to know the neighborhoods of the city and its characteristics. This will lead them to book their hotels and stay during their visits in their favorite neighborhoods.  As a result, in this project I am aiming to cluster the neighborhoods in the city of Almadinah  using  k-means clustering technique. "
   ]
  },
  {
   "cell_type": "markdown",
   "metadata": {},
   "source": [
    "# 2- Objective"
   ]
  },
  {
   "cell_type": "markdown",
   "metadata": {},
   "source": [
    "The main goal of this project is to cluster the neighborhoods in the city of Almadinah in Saudi Arabia. For achieving that the neighborhoods of Almadinah city will be studied and analyzed first. Then, K-means is implemented. This will assist visitors of the city to know where to stay in the city during their visit. "
   ]
  },
  {
   "cell_type": "markdown",
   "metadata": {},
   "source": [
    "# 3- Target Audience"
   ]
  },
  {
   "cell_type": "markdown",
   "metadata": {},
   "source": [
    "The results of this project would be helpful for people who are interested in visiting Almadinah city and knowing its neighborhoods. "
   ]
  },
  {
   "cell_type": "markdown",
   "metadata": {},
   "source": [
    "# 4- Data Description"
   ]
  },
  {
   "cell_type": "markdown",
   "metadata": {},
   "source": [
    "### 4.1- Location Data of Saudi Arabia"
   ]
  },
  {
   "cell_type": "markdown",
   "metadata": {},
   "source": [
    "This project on github (https://github.com/homaily/Saudi-Arabia-Regions-Cities-and-Districts/tree/master/json) has information about Regions, Cities and Districts in Saudi Arabia. The data is public and collected from https://maps.address.gov.sa/ as ,all coordinates in (Lat, Lon) aka (Y, X) format and 8 decimal points. Data points include: Regions, Cities and Districts. All names are written in tow languages: Arabic and English. This data is divided into three parts:\n",
    " - regions.json\n",
    " - cities.json\n",
    " - districts.json\n",
    " \n",
    "However, the first step is to covert  this data into a pandas data frame for further analysis.\n"
   ]
  },
  {
   "cell_type": "markdown",
   "metadata": {},
   "source": [
    "### 4.2- Coordinate data for Saudi Cities"
   ]
  },
  {
   "cell_type": "markdown",
   "metadata": {},
   "source": [
    "All the venues in each neighborhood in the KSA cities will be collected from Fousquare using Fousquare API.  Because we are interested in neighborhoods of Almadinah city, therefore, its  venues will be considered. "
   ]
  },
  {
   "cell_type": "markdown",
   "metadata": {},
   "source": [
    "### 4.3- Sample from data and features"
   ]
  },
  {
   "cell_type": "code",
   "execution_count": 8,
   "metadata": {},
   "outputs": [
    {
     "name": "stdout",
     "output_type": "stream",
     "text": [
      "Libraries imported.\n"
     ]
    }
   ],
   "source": [
    "import warnings\n",
    "warnings.filterwarnings(\"ignore\")\n",
    "\n",
    "import numpy as np # library to handle data in a vectorized manner\n",
    "\n",
    "\n",
    "import pandas as pd # library for data analsysis\n",
    "pd.set_option('display.max_columns', None)\n",
    "pd.set_option('display.max_rows', None)\n",
    "\n",
    "#!conda install -c conda-forge geopy --yes # uncomment this line if you haven't completed the Foursquare API lab\n",
    "from geopy.geocoders import Nominatim # convert an address into latitude and longitude values\n",
    "\n",
    "import requests # library to handle requests\n",
    "from pandas.io.json import json_normalize # tranform JSON file into a pandas dataframe\n",
    "\n",
    "# Matplotlib and associated plotting modules\n",
    "import matplotlib.cm as cm\n",
    "import matplotlib.colors as colors\n",
    "\n",
    "# import k-means from clustering stage\n",
    "from sklearn.cluster import KMeans\n",
    "\n",
    "#!conda install -c conda-forge folium=0.5.0 --yes # uncomment this line if you haven't completed the Foursquare API lab\n",
    "import folium # map rendering library\n",
    "\n",
    "print('Libraries imported.')\n",
    "\n",
    "import json # library to handle JSON filesasasasasasasasasasasasasasasasasasasasasasasasasasasasasasasasasasasasasasasasasasasasasasasasasasasasasasasas"
   ]
  },
  {
   "cell_type": "markdown",
   "metadata": {},
   "source": [
    "#### Loading regions.json for extract KSA regions and explore it"
   ]
  },
  {
   "cell_type": "code",
   "execution_count": null,
   "metadata": {},
   "outputs": [],
   "source": [
    "with open('regions.json', encoding=\"utf-8\") as json_data:    \n",
    "    country_data = json.load(json_data)\n",
    "print('No of regon:',len(country_data) )\n",
    "country_data"
   ]
  },
  {
   "cell_type": "markdown",
   "metadata": {},
   "source": [
    "#### Then convert json object of KSA regions to Pandas dataframe"
   ]
  },
  {
   "cell_type": "code",
   "execution_count": 12,
   "metadata": {},
   "outputs": [
    {
     "data": {
      "text/html": [
       "<div>\n",
       "<style scoped>\n",
       "    .dataframe tbody tr th:only-of-type {\n",
       "        vertical-align: middle;\n",
       "    }\n",
       "\n",
       "    .dataframe tbody tr th {\n",
       "        vertical-align: top;\n",
       "    }\n",
       "\n",
       "    .dataframe thead th {\n",
       "        text-align: right;\n",
       "    }\n",
       "</style>\n",
       "<table border=\"1\" class=\"dataframe\">\n",
       "  <thead>\n",
       "    <tr style=\"text-align: right;\">\n",
       "      <th></th>\n",
       "      <th>region_id</th>\n",
       "      <th>name_ar</th>\n",
       "      <th>name_en</th>\n",
       "      <th>population</th>\n",
       "      <th>capital_city_id</th>\n",
       "      <th>Latitude</th>\n",
       "      <th>Longitude</th>\n",
       "    </tr>\n",
       "  </thead>\n",
       "  <tbody>\n",
       "    <tr>\n",
       "      <th>0</th>\n",
       "      <td>1</td>\n",
       "      <td>منطقة الرياض</td>\n",
       "      <td>Riyadh</td>\n",
       "      <td>6777146</td>\n",
       "      <td>3</td>\n",
       "      <td>24.70000</td>\n",
       "      <td>46.73333</td>\n",
       "    </tr>\n",
       "    <tr>\n",
       "      <th>1</th>\n",
       "      <td>2</td>\n",
       "      <td>منطقة مكة المكرمة</td>\n",
       "      <td>Makkah</td>\n",
       "      <td>6915006</td>\n",
       "      <td>6</td>\n",
       "      <td>21.42718</td>\n",
       "      <td>39.84349</td>\n",
       "    </tr>\n",
       "    <tr>\n",
       "      <th>2</th>\n",
       "      <td>3</td>\n",
       "      <td>منطقة المدينة المنورة</td>\n",
       "      <td>Madinah</td>\n",
       "      <td>1777933</td>\n",
       "      <td>14</td>\n",
       "      <td>24.47058</td>\n",
       "      <td>39.60781</td>\n",
       "    </tr>\n",
       "    <tr>\n",
       "      <th>3</th>\n",
       "      <td>4</td>\n",
       "      <td>منطقة القصيم</td>\n",
       "      <td>Qassim</td>\n",
       "      <td>1215858</td>\n",
       "      <td>11</td>\n",
       "      <td>26.33034</td>\n",
       "      <td>43.97436</td>\n",
       "    </tr>\n",
       "    <tr>\n",
       "      <th>4</th>\n",
       "      <td>5</td>\n",
       "      <td>المنطقة الشرقية</td>\n",
       "      <td>Eastern Province</td>\n",
       "      <td>4105780</td>\n",
       "      <td>13</td>\n",
       "      <td>26.44199</td>\n",
       "      <td>50.10920</td>\n",
       "    </tr>\n",
       "  </tbody>\n",
       "</table>\n",
       "</div>"
      ],
      "text/plain": [
       "  region_id                name_ar           name_en population  \\\n",
       "0         1           منطقة الرياض            Riyadh    6777146   \n",
       "1         2      منطقة مكة المكرمة            Makkah    6915006   \n",
       "2         3  منطقة المدينة المنورة           Madinah    1777933   \n",
       "3         4           منطقة القصيم            Qassim    1215858   \n",
       "4         5        المنطقة الشرقية  Eastern Province    4105780   \n",
       "\n",
       "  capital_city_id  Latitude  Longitude  \n",
       "0               3  24.70000   46.73333  \n",
       "1               6  21.42718   39.84349  \n",
       "2              14  24.47058   39.60781  \n",
       "3              11  26.33034   43.97436  \n",
       "4              13  26.44199   50.10920  "
      ]
     },
     "execution_count": 12,
     "metadata": {},
     "output_type": "execute_result"
    }
   ],
   "source": [
    "country_regions= pd.DataFrame(columns= [ 'region_id', 'name_ar', 'name_en','population' , 'capital_city_id','Latitude', 'Longitude'] )\n",
    "\n",
    "for i,data in enumerate (country_data):\n",
    "    #print(i, end=' ')\n",
    "    row=[]\n",
    "    for c in country_regions.columns:\n",
    "        if c == 'Latitude' :\n",
    "            row.append(data['center'][0])    \n",
    "        elif c== 'Longitude':  \n",
    "            row.append(data['center'][1]) \n",
    "        else:\n",
    "            row.append(data[c])    \n",
    "    #print(row)\n",
    "    country_regions.loc[len(country_regions)] = row\n",
    "    \n",
    "country_regions.head()"
   ]
  },
  {
   "cell_type": "markdown",
   "metadata": {},
   "source": [
    "#### Loading cities.json for extract KSA cities and explore it"
   ]
  },
  {
   "cell_type": "code",
   "execution_count": 19,
   "metadata": {},
   "outputs": [],
   "source": [
    "with open('cities.json', encoding=\"utf-8\") as json_data:    \n",
    "    cities_data = json.load(json_data)"
   ]
  },
  {
   "cell_type": "markdown",
   "metadata": {},
   "source": [
    "#### Then convert json object of KSA cities to Pandas dataframe"
   ]
  },
  {
   "cell_type": "code",
   "execution_count": 21,
   "metadata": {},
   "outputs": [
    {
     "data": {
      "text/html": [
       "<div>\n",
       "<style scoped>\n",
       "    .dataframe tbody tr th:only-of-type {\n",
       "        vertical-align: middle;\n",
       "    }\n",
       "\n",
       "    .dataframe tbody tr th {\n",
       "        vertical-align: top;\n",
       "    }\n",
       "\n",
       "    .dataframe thead th {\n",
       "        text-align: right;\n",
       "    }\n",
       "</style>\n",
       "<table border=\"1\" class=\"dataframe\">\n",
       "  <thead>\n",
       "    <tr style=\"text-align: right;\">\n",
       "      <th></th>\n",
       "      <th>city_id</th>\n",
       "      <th>region_id</th>\n",
       "      <th>name_ar</th>\n",
       "      <th>name_en</th>\n",
       "      <th>Latitude</th>\n",
       "      <th>Longitude</th>\n",
       "    </tr>\n",
       "  </thead>\n",
       "  <tbody>\n",
       "    <tr>\n",
       "      <th>0</th>\n",
       "      <td>1</td>\n",
       "      <td>7</td>\n",
       "      <td>تبوك</td>\n",
       "      <td>Tabuk</td>\n",
       "      <td>28.41464</td>\n",
       "      <td>36.53387</td>\n",
       "    </tr>\n",
       "    <tr>\n",
       "      <th>1</th>\n",
       "      <td>2</td>\n",
       "      <td>7</td>\n",
       "      <td>نعمي</td>\n",
       "      <td>Na'mi</td>\n",
       "      <td>28.30508</td>\n",
       "      <td>35.74931</td>\n",
       "    </tr>\n",
       "    <tr>\n",
       "      <th>2</th>\n",
       "      <td>3</td>\n",
       "      <td>1</td>\n",
       "      <td>الرياض</td>\n",
       "      <td>Riyadh</td>\n",
       "      <td>24.70000</td>\n",
       "      <td>46.73333</td>\n",
       "    </tr>\n",
       "    <tr>\n",
       "      <th>3</th>\n",
       "      <td>4</td>\n",
       "      <td>7</td>\n",
       "      <td>حميط</td>\n",
       "      <td>Humayt</td>\n",
       "      <td>28.65152</td>\n",
       "      <td>35.38013</td>\n",
       "    </tr>\n",
       "    <tr>\n",
       "      <th>4</th>\n",
       "      <td>5</td>\n",
       "      <td>2</td>\n",
       "      <td>الطائف</td>\n",
       "      <td>At Taif</td>\n",
       "      <td>21.26848</td>\n",
       "      <td>40.41667</td>\n",
       "    </tr>\n",
       "  </tbody>\n",
       "</table>\n",
       "</div>"
      ],
      "text/plain": [
       "  city_id region_id name_ar  name_en  Latitude  Longitude\n",
       "0       1         7    تبوك    Tabuk  28.41464   36.53387\n",
       "1       2         7    نعمي    Na'mi  28.30508   35.74931\n",
       "2       3         1  الرياض   Riyadh  24.70000   46.73333\n",
       "3       4         7    حميط   Humayt  28.65152   35.38013\n",
       "4       5         2  الطائف  At Taif  21.26848   40.41667"
      ]
     },
     "execution_count": 21,
     "metadata": {},
     "output_type": "execute_result"
    }
   ],
   "source": [
    "country_cities= pd.DataFrame(columns= ['city_id', 'region_id', 'name_ar', 'name_en','Latitude', 'Longitude'] )\n",
    "\n",
    "\n",
    "for data in cities_data:\n",
    "    row=[]\n",
    "    for c in country_cities.columns:\n",
    "        if c == 'Latitude' :\n",
    "            row.append(data['center'][0])    \n",
    "  \n",
    "        elif c== 'Longitude':\n",
    "  \n",
    "            row.append(data['center'][1]) \n",
    "        else:\n",
    "            row.append(data[c])    \n",
    "    #print(row)\n",
    "    country_cities.loc[len(country_cities)] = row\n",
    "    \n",
    "country_cities.head()"
   ]
  },
  {
   "cell_type": "markdown",
   "metadata": {},
   "source": [
    "#### Loading cities.json for extract KSA districts and explore it"
   ]
  },
  {
   "cell_type": "code",
   "execution_count": 24,
   "metadata": {},
   "outputs": [],
   "source": [
    "#with open('newyork_data.json') as json_data:\n",
    "with open('districts.json', encoding=\"utf-8\") as json_data:    \n",
    "    districts_data = json.load(json_data)"
   ]
  },
  {
   "cell_type": "markdown",
   "metadata": {},
   "source": [
    "#### Then convert json object of KSA districts to Pandas dataframe"
   ]
  },
  {
   "cell_type": "code",
   "execution_count": 31,
   "metadata": {},
   "outputs": [
    {
     "data": {
      "text/html": [
       "<div>\n",
       "<style scoped>\n",
       "    .dataframe tbody tr th:only-of-type {\n",
       "        vertical-align: middle;\n",
       "    }\n",
       "\n",
       "    .dataframe tbody tr th {\n",
       "        vertical-align: top;\n",
       "    }\n",
       "\n",
       "    .dataframe thead th {\n",
       "        text-align: right;\n",
       "    }\n",
       "</style>\n",
       "<table border=\"1\" class=\"dataframe\">\n",
       "  <thead>\n",
       "    <tr style=\"text-align: right;\">\n",
       "      <th></th>\n",
       "      <th>district_id</th>\n",
       "      <th>city_id</th>\n",
       "      <th>region_id</th>\n",
       "      <th>name_ar</th>\n",
       "      <th>name_en</th>\n",
       "      <th>Latitude</th>\n",
       "      <th>Longitude</th>\n",
       "    </tr>\n",
       "  </thead>\n",
       "  <tbody>\n",
       "    <tr>\n",
       "      <th>0</th>\n",
       "      <td>10100003001</td>\n",
       "      <td>3</td>\n",
       "      <td>1</td>\n",
       "      <td>حي العمل</td>\n",
       "      <td>Al Amal Dist.</td>\n",
       "      <td>24.644966</td>\n",
       "      <td>46.723598</td>\n",
       "    </tr>\n",
       "    <tr>\n",
       "      <th>1</th>\n",
       "      <td>10100003002</td>\n",
       "      <td>3</td>\n",
       "      <td>1</td>\n",
       "      <td>حي النموذجية</td>\n",
       "      <td>Al Namudhajiyah Dist.</td>\n",
       "      <td>24.655615</td>\n",
       "      <td>46.696523</td>\n",
       "    </tr>\n",
       "    <tr>\n",
       "      <th>2</th>\n",
       "      <td>10100003003</td>\n",
       "      <td>3</td>\n",
       "      <td>1</td>\n",
       "      <td>حي الجرادية</td>\n",
       "      <td>Al Jarradiyah Dist.</td>\n",
       "      <td>24.618815</td>\n",
       "      <td>46.696110</td>\n",
       "    </tr>\n",
       "    <tr>\n",
       "      <th>3</th>\n",
       "      <td>10100003004</td>\n",
       "      <td>3</td>\n",
       "      <td>1</td>\n",
       "      <td>حي الصناعية</td>\n",
       "      <td>Al Sinaiyah Dist.</td>\n",
       "      <td>24.646447</td>\n",
       "      <td>46.741675</td>\n",
       "    </tr>\n",
       "    <tr>\n",
       "      <th>4</th>\n",
       "      <td>10100003005</td>\n",
       "      <td>3</td>\n",
       "      <td>1</td>\n",
       "      <td>حي منفوحة الجديدة</td>\n",
       "      <td>Manfuha Al Jadidah Dist.</td>\n",
       "      <td>24.613354</td>\n",
       "      <td>46.716463</td>\n",
       "    </tr>\n",
       "  </tbody>\n",
       "</table>\n",
       "</div>"
      ],
      "text/plain": [
       "   district_id city_id region_id            name_ar                   name_en  \\\n",
       "0  10100003001       3         1           حي العمل             Al Amal Dist.   \n",
       "1  10100003002       3         1       حي النموذجية     Al Namudhajiyah Dist.   \n",
       "2  10100003003       3         1        حي الجرادية       Al Jarradiyah Dist.   \n",
       "3  10100003004       3         1        حي الصناعية         Al Sinaiyah Dist.   \n",
       "4  10100003005       3         1  حي منفوحة الجديدة  Manfuha Al Jadidah Dist.   \n",
       "\n",
       "    Latitude  Longitude  \n",
       "0  24.644966  46.723598  \n",
       "1  24.655615  46.696523  \n",
       "2  24.618815  46.696110  \n",
       "3  24.646447  46.741675  \n",
       "4  24.613354  46.716463  "
      ]
     },
     "execution_count": 31,
     "metadata": {},
     "output_type": "execute_result"
    }
   ],
   "source": [
    "country_districts= pd.DataFrame(columns= ['district_id','city_id', 'region_id', 'name_ar', 'name_en','Latitude', 'Longitude'] )\n",
    "\n",
    "for data in districts_data:\n",
    "    row=[]\n",
    "    for c in country_districts.columns:\n",
    "        if c == 'Latitude' :\n",
    "            b = np.array(data['boundaries'][0])\n",
    "            b=b.mean(axis=0 )\n",
    "            row.append(b[0])   \n",
    "            row.append(b[1])    \n",
    "        elif c == 'Longitude' :\n",
    "            None\n",
    "        else:\n",
    "            row.append(data[c])    \n",
    "        #print(row)\n",
    "    \n",
    "    country_districts.loc[len(country_districts)] = row\n",
    "    \n",
    "    \n",
    "country_districts.head()"
   ]
  },
  {
   "cell_type": "code",
   "execution_count": null,
   "metadata": {},
   "outputs": [],
   "source": []
  }
 ],
 "metadata": {
  "kernelspec": {
   "display_name": "Python 3",
   "language": "python",
   "name": "python3"
  },
  "language_info": {
   "codemirror_mode": {
    "name": "ipython",
    "version": 3
   },
   "file_extension": ".py",
   "mimetype": "text/x-python",
   "name": "python",
   "nbconvert_exporter": "python",
   "pygments_lexer": "ipython3",
   "version": "3.7.3"
  }
 },
 "nbformat": 4,
 "nbformat_minor": 4
}
